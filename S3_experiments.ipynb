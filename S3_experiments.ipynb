{
 "cells": [
  {
   "cell_type": "markdown",
   "metadata": {},
   "source": [
    "# Amazon S3 Experiments"
   ]
  },
  {
   "cell_type": "markdown",
   "metadata": {},
   "source": [
    "Before we get started make sure you configure the AWS cli from https://aws.amazon.com/cli/ "
   ]
  },
  {
   "cell_type": "markdown",
   "metadata": {},
   "source": [
    "## First let's show that we can copy a test file to our bucket"
   ]
  },
  {
   "cell_type": "code",
   "execution_count": 21,
   "metadata": {},
   "outputs": [],
   "source": [
    "import os\n",
    "import boto3"
   ]
  },
  {
   "cell_type": "code",
   "execution_count": 22,
   "metadata": {},
   "outputs": [],
   "source": [
    "s3 = boto3.resource('s3')"
   ]
  },
  {
   "cell_type": "code",
   "execution_count": 23,
   "metadata": {},
   "outputs": [],
   "source": [
    "data = open('test.txt','rb')"
   ]
  },
  {
   "cell_type": "code",
   "execution_count": 24,
   "metadata": {},
   "outputs": [
    {
     "data": {
      "text/plain": [
       "s3.Object(bucket_name='jpf-python-datastore', key='text.txt')"
      ]
     },
     "execution_count": 24,
     "metadata": {},
     "output_type": "execute_result"
    }
   ],
   "source": [
    "s3.Bucket('jpf-python-datastore').put_object(Key='text.txt', Body=data)"
   ]
  },
  {
   "cell_type": "markdown",
   "metadata": {},
   "source": [
    "## Now lets show that we can write directly to a file"
   ]
  },
  {
   "cell_type": "code",
   "execution_count": 37,
   "metadata": {},
   "outputs": [],
   "source": [
    "import boto3"
   ]
  },
  {
   "cell_type": "code",
   "execution_count": 38,
   "metadata": {},
   "outputs": [],
   "source": [
    "data_string=\"Now is the time for all good men to come to the aid of their party.\""
   ]
  },
  {
   "cell_type": "code",
   "execution_count": 39,
   "metadata": {},
   "outputs": [],
   "source": [
    "s3 = boto3.resource('s3')"
   ]
  },
  {
   "cell_type": "code",
   "execution_count": 40,
   "metadata": {},
   "outputs": [],
   "source": [
    "#obj = s3.Object('jpf-python-datastore', 'test.txt')\n",
    "#obj.put(Body=data_string)"
   ]
  },
  {
   "cell_type": "code",
   "execution_count": 42,
   "metadata": {},
   "outputs": [
    {
     "data": {
      "text/plain": [
       "s3.Object(bucket_name='jpf-python-datastore', key='text1.txt')"
      ]
     },
     "execution_count": 42,
     "metadata": {},
     "output_type": "execute_result"
    }
   ],
   "source": [
    "s3.Bucket('jpf-python-datastore').put_object(Key='text1.txt', Body=data_string)"
   ]
  },
  {
   "cell_type": "markdown",
   "metadata": {},
   "source": [
    "## Now lets save a dataframe"
   ]
  },
  {
   "cell_type": "code",
   "execution_count": 73,
   "metadata": {},
   "outputs": [],
   "source": [
    "import boto3\n",
    "import pandas as pd"
   ]
  },
  {
   "cell_type": "code",
   "execution_count": 74,
   "metadata": {},
   "outputs": [
    {
     "data": {
      "text/html": [
       "<div>\n",
       "<style>\n",
       "    .dataframe thead tr:only-child th {\n",
       "        text-align: right;\n",
       "    }\n",
       "\n",
       "    .dataframe thead th {\n",
       "        text-align: left;\n",
       "    }\n",
       "\n",
       "    .dataframe tbody tr th {\n",
       "        vertical-align: top;\n",
       "    }\n",
       "</style>\n",
       "<table border=\"1\" class=\"dataframe\">\n",
       "  <thead>\n",
       "    <tr style=\"text-align: right;\">\n",
       "      <th></th>\n",
       "      <th>index</th>\n",
       "      <th>First Name</th>\n",
       "      <th>Last Name</th>\n",
       "      <th>Gender</th>\n",
       "      <th>Dojo</th>\n",
       "      <th>Age</th>\n",
       "      <th>Rank</th>\n",
       "      <th>Feet</th>\n",
       "      <th>Inches</th>\n",
       "      <th>Height</th>\n",
       "      <th>Weight</th>\n",
       "      <th>BMI</th>\n",
       "      <th>Events</th>\n",
       "      <th>Weapons</th>\n",
       "    </tr>\n",
       "  </thead>\n",
       "  <tbody>\n",
       "    <tr>\n",
       "      <th>0</th>\n",
       "      <td>255</td>\n",
       "      <td>Lucas</td>\n",
       "      <td>LeMay</td>\n",
       "      <td>Male</td>\n",
       "      <td>Parker</td>\n",
       "      <td>10</td>\n",
       "      <td>Yellow</td>\n",
       "      <td>4</td>\n",
       "      <td>3</td>\n",
       "      <td>4 ft. 3 in.</td>\n",
       "      <td>52</td>\n",
       "      <td>154</td>\n",
       "      <td>2 Events - Forms &amp; Sparring ($75)</td>\n",
       "      <td>None</td>\n",
       "    </tr>\n",
       "    <tr>\n",
       "      <th>1</th>\n",
       "      <td>194</td>\n",
       "      <td>Jakie</td>\n",
       "      <td>Coleman</td>\n",
       "      <td>Male</td>\n",
       "      <td>Cheyenne</td>\n",
       "      <td>10</td>\n",
       "      <td>Yellow</td>\n",
       "      <td>4</td>\n",
       "      <td>0</td>\n",
       "      <td>4</td>\n",
       "      <td>60</td>\n",
       "      <td>156</td>\n",
       "      <td>2 Events - Forms &amp; Sparring ($75)</td>\n",
       "      <td>Weapons ($35)</td>\n",
       "    </tr>\n",
       "    <tr>\n",
       "      <th>2</th>\n",
       "      <td>195</td>\n",
       "      <td>Katie</td>\n",
       "      <td>Coleman</td>\n",
       "      <td>Female</td>\n",
       "      <td>Cheyenne</td>\n",
       "      <td>12</td>\n",
       "      <td>Yellow</td>\n",
       "      <td>4</td>\n",
       "      <td>0</td>\n",
       "      <td>4</td>\n",
       "      <td>65</td>\n",
       "      <td>161</td>\n",
       "      <td>2 Events - Forms &amp; Sparring ($75)</td>\n",
       "      <td>Weapons ($35)</td>\n",
       "    </tr>\n",
       "  </tbody>\n",
       "</table>\n",
       "</div>"
      ],
      "text/plain": [
       "   index First Name Last Name  Gender      Dojo  Age    Rank  Feet  Inches  \\\n",
       "0    255      Lucas     LeMay    Male    Parker   10  Yellow     4       3   \n",
       "1    194      Jakie   Coleman    Male  Cheyenne   10  Yellow     4       0   \n",
       "2    195      Katie   Coleman  Female  Cheyenne   12  Yellow     4       0   \n",
       "\n",
       "        Height  Weight  BMI                             Events        Weapons  \n",
       "0  4 ft. 3 in.      52  154  2 Events - Forms & Sparring ($75)           None  \n",
       "1            4      60  156  2 Events - Forms & Sparring ($75)  Weapons ($35)  \n",
       "2            4      65  161  2 Events - Forms & Sparring ($75)  Weapons ($35)  "
      ]
     },
     "execution_count": 74,
     "metadata": {},
     "output_type": "execute_result"
    }
   ],
   "source": [
    "# setup a dataframe with some data\n",
    "columns=['index','First Name','Last Name','Gender','Dojo','Age','Rank','Feet','Inches','Height','Weight','BMI','Events','Weapons']\n",
    "data=[(255,'Lucas','LeMay','Male','Parker',10,'Yellow',4,3,'4 ft. 3 in.',52,154,'2 Events - Forms & Sparring ($75)','None'),\n",
    "      (194,'Jakie','Coleman','Male','Cheyenne',10,'Yellow',4,0,'4',60,156,'2 Events - Forms & Sparring ($75)','Weapons ($35)'),\n",
    "      (195,'Katie','Coleman','Female','Cheyenne',12,'Yellow',4,0,'4',65,161,'2 Events - Forms & Sparring ($75)','Weapons ($35)')]\n",
    "df=pd.DataFrame(data,columns=columns)\n",
    "df"
   ]
  },
  {
   "cell_type": "code",
   "execution_count": 75,
   "metadata": {},
   "outputs": [],
   "source": [
    "s3 = boto3.resource('s3')"
   ]
  },
  {
   "cell_type": "code",
   "execution_count": 76,
   "metadata": {},
   "outputs": [
    {
     "data": {
      "text/plain": [
       "',index,First Name,Last Name,Gender,Dojo,Age,Rank,Feet,Inches,Height,Weight,BMI,Events,Weapons\\n0,255,Lucas,LeMay,Male,Parker,10,Yellow,4,3,4 ft. 3 in.,52,154,2 Events - Forms & Sparring ($75),None\\n1,194,Jakie,Coleman,Male,Cheyenne,10,Yellow,4,0,4,60,156,2 Events - Forms & Sparring ($75),Weapons ($35)\\n2,195,Katie,Coleman,Female,Cheyenne,12,Yellow,4,0,4,65,161,2 Events - Forms & Sparring ($75),Weapons ($35)\\n'"
      ]
     },
     "execution_count": 76,
     "metadata": {},
     "output_type": "execute_result"
    }
   ],
   "source": [
    "data_string = df.to_csv()\n",
    "data_string"
   ]
  },
  {
   "cell_type": "code",
   "execution_count": 77,
   "metadata": {},
   "outputs": [
    {
     "data": {
      "text/plain": [
       "s3.Object(bucket_name='jpf-python-datastore', key='text.csv')"
      ]
     },
     "execution_count": 77,
     "metadata": {},
     "output_type": "execute_result"
    }
   ],
   "source": [
    "s3.Bucket('jpf-python-datastore').put_object(Key='text.csv', Body=data_string)"
   ]
  },
  {
   "cell_type": "code",
   "execution_count": null,
   "metadata": {},
   "outputs": [],
   "source": []
  }
 ],
 "metadata": {
  "kernelspec": {
   "display_name": "Python [default]",
   "language": "python",
   "name": "python2"
  },
  "language_info": {
   "codemirror_mode": {
    "name": "ipython",
    "version": 2
   },
   "file_extension": ".py",
   "mimetype": "text/x-python",
   "name": "python",
   "nbconvert_exporter": "python",
   "pygments_lexer": "ipython2",
   "version": "2.7.14"
  }
 },
 "nbformat": 4,
 "nbformat_minor": 2
}
